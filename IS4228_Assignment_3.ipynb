{
  "cells": [
    {
      "cell_type": "markdown",
      "metadata": {
        "id": "view-in-github",
        "colab_type": "text"
      },
      "source": [
        "<a href=\"https://colab.research.google.com/github/polarbearadeleng/adeleng-streamlit/blob/main/IS4228_Assignment_3.ipynb\" target=\"_parent\"><img src=\"https://colab.research.google.com/assets/colab-badge.svg\" alt=\"Open In Colab\"/></a>"
      ]
    },
    {
      "cell_type": "markdown",
      "source": [
        "**Student Name(s):** Adele Ng"
      ],
      "metadata": {
        "id": "KyE5AK0k7lKj"
      }
    },
    {
      "cell_type": "markdown",
      "source": [],
      "metadata": {
        "id": "hTtIyHD87mX6"
      }
    },
    {
      "cell_type": "markdown",
      "source": [],
      "metadata": {
        "id": "arcgqHhXjdpp"
      }
    },
    {
      "cell_type": "markdown",
      "metadata": {
        "id": "HA1PBujGqHpQ"
      },
      "source": [
        "# IS4228 - ASSIGNMENT 3 (Extra Credit)\n",
        "# Technical Indicators for Cryptocurrency Trading\n"
      ]
    },
    {
      "cell_type": "markdown",
      "metadata": {
        "id": "37AVsJTl33md"
      },
      "source": [
        " The primary purpose of this exercise is to equip students with practical skills in financial data analysis using real-world data. By engaging with actual cryptocurrency price data, students learn how to apply theoretical knowledge in a practical setting, performing tasks that are commonly required in finance and trading roles. This exercise not only improves their technical proficiency in using analytical tools like Python and APIs but also enhances their understanding of market dynamics and trading strategies. Through this hands-on approach, students develop a more robust comprehension of how data analysis can influence financial decision-making and strategy development, preparing them for real-world challenges in financial markets.\n",
        "\n",
        "- Create a copy of this google Collab to work on your own version.\n",
        "- You may work on this in groups of 1-3 students. If working in pairs, please list both student's names at the top and submit identical items.\n",
        "- Submit your completed assignment as a PDF using \"file>print\".\n",
        "\n",
        " ## Objectives:\n",
        " 1. Retrieve data on crypto prices from HitBTV API\n",
        " 2. Calculate Simple Moving Average (SMA) for price prediction\n",
        " 3. Identify Moving Average Crossover\n",
        " 4. Develope Signal Interpretation Function\n",
        " 5. Explain the insights inferred from the graph\n",
        "\n"
      ]
    },
    {
      "cell_type": "markdown",
      "metadata": {
        "id": "RPRDXrFG39l_"
      },
      "source": [
        " # 1. Retrieve Data\n",
        "Retrieving data from the HitBTC API is fundamental because real-world data is essential for practical financial analysis. Understanding how to fetch and preprocess data teaches students about the intricacies of financial data management, including dealing with inconsistencies and errors that are common in real-time data feeds. This step ensures that you can handle data programmatically, a crucial skill in any data-driven profession."
      ]
    },
    {
      "cell_type": "markdown",
      "source": [
        "**Steps:**\n",
        "* Ensure that the API key and permissions are correctly set up to access the HitBTC API.\n",
        "* Handle possible API rate limits or data fetching errors with retry mechanisms or error handling routines.\n",
        "* Verify the completeness and accuracy of the data retrieved before proceeding to analysis."
      ],
      "metadata": {
        "id": "iP41XeTJ4bHB"
      }
    },
    {
      "cell_type": "markdown",
      "metadata": {
        "id": "2XzrvA0yQDgd"
      },
      "source": [
        "Import Libraries"
      ]
    },
    {
      "cell_type": "code",
      "execution_count": null,
      "metadata": {
        "id": "5SFH3l4tQGR_"
      },
      "outputs": [],
      "source": [
        "#import libraries to save the data from hitBTC to dataframe\n",
        "import pandas as pd\n",
        "import requests\n",
        "import json"
      ]
    },
    {
      "cell_type": "markdown",
      "metadata": {
        "id": "VjWOebySQrU5"
      },
      "source": [
        "Call HitBTC using APIs"
      ]
    },
    {
      "cell_type": "code",
      "execution_count": null,
      "metadata": {
        "id": "gnQ5uJa1nZAZ"
      },
      "outputs": [],
      "source": [
        "def getDataHitbtc(symbol, period, since):\n",
        "  # symbol = \"BTCUSD\"\n",
        "  # period = \"D1\"\n",
        "  # since = '20-01-2022'\n",
        "  # url = \"https://api.demo.hitbtc.com/api/2/public/candles/\"+symbol\n",
        "  url = \"https://api.hitbtc.com/api/3/public/candles/\"+symbol\n",
        "\n",
        "  payload = {'period': period,'from':since }\n",
        "\n",
        "  response = requests.get(url, payload)\n",
        "  response.text\n",
        "  data = response.text\n",
        "  new_data = json.loads(data)\n",
        "  print(new_data)\n",
        "  # save the data to a dataframe\n",
        "  df = pd.DataFrame(new_data,columns=['timestamp','open','close','min','max','volume','volumeQuote'])\n",
        "\n",
        "  # print (df)\n",
        "  return df"
      ]
    },
    {
      "cell_type": "code",
      "execution_count": null,
      "metadata": {
        "id": "2a1Pb5qggmDq"
      },
      "outputs": [],
      "source": [
        "#calling functions to get the data from HitBTC (changes these variables to desired values)\n",
        "# symbol = \"BTCUSD\"\n",
        "symbol = \"ETHBTC\"\n",
        "# symbol = \"ETHUSDT\"\n",
        "# symbol = \"EOSUSD\"\n",
        "\n",
        "\n",
        "since = '20-01-2019'\n",
        "period = \"D1\"\n",
        "\n",
        "#save the data to a dataframe\n",
        "df_GS = getDataHitbtc(symbol, period, since)\n",
        "print (df_GS)\n",
        "\n"
      ]
    },
    {
      "cell_type": "markdown",
      "source": [
        "## 2. Calculate Simple Moving Average\n",
        "Calculating the Simple Moving Average (SMA) introduces one of the most basic yet powerful tools in financial analysis. The SMA smooths out price data by averaging a set number of price points. This reduces the noise and allows analysts to see clearer trends and patterns, aiding in the identification of general market directions. Understanding SMA can help you grasp how indicators can simplify data interpretation and support decision-making processes."
      ],
      "metadata": {
        "id": "hFd9Flw6Vr86"
      }
    },
    {
      "cell_type": "markdown",
      "source": [
        "- The Simple Moving Average (SMA) is computed by\n",
        "summing a fixed number of closing prices and dividing by the number of prices.\n",
        "- This technical indicator aids in determining the potential continuation or reversal of a bull or bear trend.\n",
        "- The time period for the SMA calculation can be adjusted as needed. - You can choose any time period\n",
        "- Visualize the SMA line on the chart within the notebook.\n",
        "\n",
        "Hint:\n",
        "- You can find sample code for the SMA from the NUSwap examples at http://20.188.118.62:3000/\n",
        "- Go to “Journeys” tab > “Step 3 - Connect with APIs” > “Learn Now” and scroll down to see the different sample trading strategies"
      ],
      "metadata": {
        "id": "Dr4Ba-JR4X6B"
      }
    },
    {
      "cell_type": "code",
      "source": [
        "import numpy as np\n",
        "import matplotlib.pyplot as plt\n",
        "\n",
        "# Calculate the SMA\n",
        "sma_period = 100  # Adjust this value as needed\n",
        "df_GS['SMA'] = df_GS['close'].rolling(window=sma_period).mean()\n",
        "\n",
        "# Plot the closing price and SMA on the same chart\n",
        "plt.plot(df_GS['close'], label='Close Price')\n",
        "plt.plot(df_GS['SMA'], label='SMA')\n",
        "plt.legend()\n",
        "plt.show()\n"
      ],
      "metadata": {
        "id": "Dm8pqw8yVuhS"
      },
      "execution_count": null,
      "outputs": []
    },
    {
      "cell_type": "markdown",
      "source": [
        "## 3. Identify Moving Average Crossovers:\n",
        "Identifying moving average crossovers is crucial for signaling potential entry and exit points in trading. This step introduces the dynamics of market trends and the concept of momentum in trading. By analyzing when a short-term average crosses a long-term average, you can learn how to predict and react to possible market reversals or continuations, which is vital for many trading strategies.\n",
        "\n"
      ],
      "metadata": {
        "id": "-GH-n-j0V0aT"
      }
    },
    {
      "cell_type": "markdown",
      "source": [
        "\n",
        "- Moving average crossover occurs when a faster Moving Average (shorter period) crosses above or below a slower Moving Average (longer period).\n",
        "- An upward crossover, crossing above the slower MA, indicates a bullish trend, while a downward crossover suggests a bearish trend.\n",
        "- Determine both short and long SMAs to pinpoint crossovers and interpret signals.\n",
        "- A buy signal is indicated when the short-term moving average crosses above the long-term moving average, while a sell signal is triggered when the short-term moving average crosses below the long-term moving average"
      ],
      "metadata": {
        "id": "b2k6SeCS4iFJ"
      }
    },
    {
      "cell_type": "code",
      "source": [
        "# Define short and long SMA periods\n",
        "short_sma_period = 10\n",
        "long_sma_period = 100\n",
        "\n",
        "# Calculate the short and long SMAs\n",
        "df_GS['short_SMA'] = df_GS['close'].rolling(window=short_sma_period).mean()\n",
        "df_GS['long_SMA'] = df_GS['close'].rolling(window=long_sma_period).mean()\n",
        "\n",
        "# Plot the closing price, short SMA, and long SMA on the same chart\n",
        "plt.plot(df_GS['close'], label='Close Price')\n",
        "plt.plot(df_GS['short_SMA'], label='Short SMA')\n",
        "plt.plot(df_GS['long_SMA'], label='Long SMA')\n",
        "plt.legend()\n",
        "plt.show()\n",
        "\n",
        "# Identify and interpret crossovers\n",
        "for i in range(1, len(df_GS)):\n",
        "  if df_GS['short_SMA'][i] > df_GS['long_SMA'][i] and df_GS['short_SMA'][i-1] <= df_GS['long_SMA'][i-1]:\n",
        "    print(f\"Buy signal on {df_GS['timestamp'][i]}\")\n",
        "  elif df_GS['short_SMA'][i] < df_GS['long_SMA'][i] and df_GS['short_SMA'][i-1] >= df_GS['long_SMA'][i-1]:\n",
        "    print(f\"Sell signal on {df_GS['timestamp'][i]}\")\n",
        "\n"
      ],
      "metadata": {
        "id": "hnDnjnenXOtf"
      },
      "execution_count": null,
      "outputs": []
    },
    {
      "cell_type": "markdown",
      "source": [],
      "metadata": {
        "id": "aYt4voqYbdBB"
      }
    },
    {
      "cell_type": "markdown",
      "source": [
        "## 4. Plot the graph:\n",
        "Plotting the graph is not just about visual representation but also about communication. By visualizing data, you can learn how to present data in a way that is accessible and understandable, highlighting key information like trends and signals. Graphical skills are essential for data scientists and analysts who need to report their findings to stakeholders who may not have a technical background.\n",
        "\n"
      ],
      "metadata": {
        "id": "TRXhtCCtV3z8"
      }
    },
    {
      "cell_type": "markdown",
      "source": [
        "- Plot a Graph with both short and long term Simple Moving Averages plus Buy/Sell signals\n",
        "- Use libraries like Matplotlib or Seaborn for visualizing the SMAs along with the closing price of the cryptocurrency.\n",
        "- Highlight crossover points on the graph to clearly indicate buy or sell signals.\n",
        "-Enhance graph readability with legends, annotations, and a clear time axis.\n"
      ],
      "metadata": {
        "id": "1-IASRZ-5Fcx"
      }
    },
    {
      "cell_type": "code",
      "source": [
        "# Plot the graph with both short and long term Simple Moving Averages plus Buy/Sell signals\n",
        "plt.figure(figsize=(20, 10))\n",
        "\n",
        "# Plot the closing price\n",
        "plt.plot(df_GS['timestamp'], df_GS['close'], label='Close Price', color='black')\n",
        "\n",
        "# Plot the short SMA\n",
        "plt.plot(df_GS['timestamp'], df_GS['short_SMA'], label='Short SMA', color='blue')\n",
        "\n",
        "# Plot the long SMA\n",
        "plt.plot(df_GS['timestamp'], df_GS['long_SMA'], label='Long SMA', color='red')\n",
        "\n",
        "# Highlight crossover points on the graph\n",
        "for i in range(1, len(df_GS)):\n",
        "  if df_GS['short_SMA'][i] > df_GS['long_SMA'][i] and df_GS['short_SMA'][i-1] <= df_GS['long_SMA'][i-1]:\n",
        "    plt.plot(df_GS['timestamp'][i], df_GS['close'][i], marker='^', color='green', label='Buy Signal')\n",
        "  elif df_GS['short_SMA'][i] < df_GS['long_SMA'][i] and df_GS['short_SMA'][i-1] >= df_GS['long_SMA'][i-1]:\n",
        "    plt.plot(df_GS['timestamp'][i], df_GS['close'][i], marker='v', color='red', label='Sell Signal')\n",
        "\n",
        "# Enhance graph readability\n",
        "plt.xlabel('Date')\n",
        "plt.ylabel('Price')\n",
        "plt.title('Simple Moving Averages with Buy/Sell Signals')\n",
        "plt.legend()\n",
        "plt.grid(True)\n",
        "plt.show()"
      ],
      "metadata": {
        "id": "NOzqc9DMV59m"
      },
      "execution_count": null,
      "outputs": []
    },
    {
      "cell_type": "markdown",
      "source": [
        "## 5. Inference from the graph:\n",
        "Writing an inference from the graph can help you translate visual findings into actionable insights. This step relies on critical thinking and analytical skills to interpret the visual data, draw conclusions, and potentially make predictions or recommendations based on the visualisations.\n",
        "\n"
      ],
      "metadata": {
        "id": "2T2Ngzd9V6p9"
      }
    },
    {
      "cell_type": "markdown",
      "source": [
        "- Write an explanatory narrative detailing the insights inferred from the graph.\n",
        "- Discuss any notable trends or patterns observed and their potential implications for traders.\n",
        "- Reflect on the limitations of SMA and suggest additional indicators or methods to confirm the signals provided by the SMAs.\n",
        "- (You can use the \"create textbox\" feature from the google colab for the writeup)"
      ],
      "metadata": {
        "id": "bfOGJM-BWU9a"
      }
    },
    {
      "cell_type": "markdown",
      "source": [
        "The graph shows a clear upward trend in the closing price of the cryptocurrency over the past few months.\n",
        "The short SMA and long SMA are both trending upwards, indicating a bullish market.\n",
        "There have been several buy signals and sell signals throughout the period, indicating potential trading opportunities.\n",
        "\n",
        "Limitations of SMA:\n",
        "SMA is a lagging indicator, meaning it reacts slowly to changes in price.\n",
        "SMA can be misleading in volatile markets.\n",
        "\n",
        "Additional indicators:\n",
        "Traders can use other indicators such as RSI, MACD, and Bollinger Bands to confirm signals from the SMAs.\n",
        "Traders can also use technical analysis to identify support and resistance levels, which can help them make better trading decisions."
      ],
      "metadata": {
        "id": "VuVrBi4V7KAk"
      }
    }
  ],
  "metadata": {
    "colab": {
      "provenance": [],
      "include_colab_link": true
    },
    "kernelspec": {
      "display_name": "Python 3",
      "name": "python3"
    },
    "language_info": {
      "name": "python"
    }
  },
  "nbformat": 4,
  "nbformat_minor": 0
}